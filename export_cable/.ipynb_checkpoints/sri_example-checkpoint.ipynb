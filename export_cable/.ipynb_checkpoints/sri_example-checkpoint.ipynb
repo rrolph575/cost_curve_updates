{
 "cells": [
  {
   "cell_type": "code",
   "execution_count": 1,
   "id": "6fc0d5cb-ac26-468f-a339-e5637fe055e1",
   "metadata": {},
   "outputs": [],
   "source": [
    "import sys\n",
    "sys.path.insert(0, 'C:/Users/rrolph/OneDrive - NREL/ORBIT') # only include this if notebook path and repo path are different\n",
    "from ORBIT import ProjectManager\n",
    "from ORBIT.phases.design import ElectricalDesign"
   ]
  },
  {
   "cell_type": "code",
   "execution_count": 14,
   "id": "74912dc5-cae5-46a6-95ae-391dc047bbc1",
   "metadata": {},
   "outputs": [],
   "source": [
    "config = {\n",
    "    'export_cable_install_vessel': 'example_cable_lay_vessel',\n",
    "    'site': {'distance': 120, 'depth': 160, 'distance_to_landfall': 93},\n",
    "    'plant': {'capacity': 2000}, # here you can seee since we have turbine ratnig and plant capacity, we dont need number of turbines\n",
    "    'turbine': {'turbine_rating': 15},\n",
    "    'oss_install_vessel': 'example_heavy_lift_vessel',\n",
    "    'feeder': 'future_feeder',\n",
    "    'export_system_design': {\n",
    "        'cables': \"HVDC_2500mm_525kV_dynamic\",\n",
    "#         'num_redundant': 'int (optional)',\n",
    "#         'touchdown_distance': 'm (optional, default: 0)',\n",
    "#         'percent_added_length': 'float (optional)'\n",
    "    },\n",
    "#     'substation_design': {\n",
    "#         'mpt_cost_rate': 'USD/MW (optional)',\n",
    "#         'topside_fab_cost_rate': 'USD/t (optional)',\n",
    "#         'topside_design_cost': 'USD (optional)',\n",
    "#         'shunt_cost_rate': 'USD/MW (optional)',\n",
    "#         'switchgear_costs': 'USD (optional)',\n",
    "#         'backup_gen_cost': 'USD (optional)',\n",
    "#         'workspace_cost': 'USD (optional)',\n",
    "#         'other_ancillary_cost': 'USD (optional)',\n",
    "#         'topside_assembly_factor': 'float (optional)',\n",
    "#         'oss_substructure_cost_rate': 'USD/t (optional)',\n",
    "#         'oss_pile_cost_rate': 'USD/t (optional)',\n",
    "#         'num_substations': 'int (optional)'\n",
    "#     },\n",
    "\n",
    "    'design_phases': [\n",
    "        'ElectricalDesign'\n",
    "    ],\n",
    "    'install_phases': [\n",
    "        'ExportCableInstallation',\n",
    "        'OffshoreSubstationInstallation'\n",
    "    ],\n",
    "}"
   ]
  },
  {
   "cell_type": "code",
   "execution_count": 3,
   "id": "4406ef35-6034-45b3-8ebf-ad0af677877e",
   "metadata": {},
   "outputs": [],
   "source": [
    "# project = ProjectManager(config)\n",
    "# project.run()\n",
    "# project.phases[\"ElectricalDesign\"].num_cables\n",
    "\n",
    "# oss_design = project.capex_breakdown['Offshore Substation']\n",
    "# cable_design_capex_breakdown = project.capex_breakdown['Export System']\n",
    "# cable_design_module = project.phases['ElectricalDesign'].total_cable_cost\n",
    "# oss_install = project.capex_breakdown['Offshore Substation Installation']\n",
    "# onshore = project.phases['ElectricalDesign'].cable.cable_type\n",
    "\n",
    "# # print(oss_design)\n",
    "# # print(cable_design)\n",
    "# # print(oss_install)\n",
    "# # print(onshore)\n",
    "\n",
    "# print(\"cable desgin with capex breakdown: %d\" % cable_design_capex_breakdown)\n",
    "# print(\"cable desgin with module: %d\" % cable_design_module)\n",
    "# print(\"cable $/km: %d\" % (cable_design_module/config['site']['distance']/2))"
   ]
  },
  {
   "cell_type": "code",
   "execution_count": 15,
   "id": "3d79993c-2159-4cc1-965b-5e80ddb88208",
   "metadata": {},
   "outputs": [
    {
     "name": "stdout",
     "output_type": "stream",
     "text": [
      "cost_by_type 44735666.0136816\n",
      "44735666.0136816\n",
      "450000.0\n",
      "cost_by_type 44735666.0136816\n",
      "44735666.0136816\n",
      "total_cable_cost in $/km 2.23678330068408\n"
     ]
    }
   ],
   "source": [
    "design = ElectricalDesign(config)\n",
    "design.run()\n",
    "#design.num_cables\n",
    "print('total_cable_cost in $/km', design.total_cable_cost/10/2/1e6) # /10 km / 2 cables / 1e6 = $M/km\n",
    "# design.cable.cable_power\n",
    "# design.total_substa"
   ]
  },
  {
   "cell_type": "code",
   "execution_count": 11,
   "id": "4f0c71f0-815f-402d-a838-f3be2ca21a61",
   "metadata": {},
   "outputs": [
    {
     "data": {
      "text/plain": [
       "2"
      ]
     },
     "execution_count": 11,
     "metadata": {},
     "output_type": "execute_result"
    }
   ],
   "source": [
    "design.num_cables"
   ]
  },
  {
   "cell_type": "code",
   "execution_count": null,
   "id": "9a7dc54e",
   "metadata": {},
   "outputs": [],
   "source": []
  }
 ],
 "metadata": {
  "kernelspec": {
   "display_name": "Python 3 (ipykernel)",
   "language": "python",
   "name": "python3"
  },
  "language_info": {
   "codemirror_mode": {
    "name": "ipython",
    "version": 3
   },
   "file_extension": ".py",
   "mimetype": "text/x-python",
   "name": "python",
   "nbconvert_exporter": "python",
   "pygments_lexer": "ipython3",
   "version": "3.9.17"
  }
 },
 "nbformat": 4,
 "nbformat_minor": 5
}
