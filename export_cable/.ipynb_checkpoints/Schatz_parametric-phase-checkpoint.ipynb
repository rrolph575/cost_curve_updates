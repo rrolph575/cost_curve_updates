{
 "cells": [
  {
   "cell_type": "code",
   "execution_count": 1,
   "id": "worthy-refund",
   "metadata": {},
   "outputs": [],
   "source": [
    "import os\n",
    "import pandas as pd\n",
    "from ORBIT import ProjectManager, load_config, ParametricManager\n",
    "from ORBIT.phases.design import ElectricalDesign\n",
    "from ORBIT.phases.install import ExportCableInstallation, FloatingSubstationInstallation\n",
    "\n",
    "#weather = pd.read_csv(\"southern_OR_swh_150m.csv\", parse_dates=[\"datetime\"])\\\n",
    "#             .set_index(\"datetime\")\n",
    "weather = pd.read_csv(\"northern_CA_swh_150m.csv\", parse_dates=[\"datetime\"])\\\n",
    "             .set_index(\"datetime\")"
   ]
  },
  {
   "cell_type": "code",
   "execution_count": 27,
   "id": "driven-falls",
   "metadata": {},
   "outputs": [],
   "source": [
    "base = {\n",
    "    \"feeder\": \"floating_barge\",\n",
    "    \"ahts_vessel\": \"example_ahts_vessel\",\n",
    "    \"array_cable_install_vessel\": \"Humboldt_cable_lay_vessel\",\n",
    "    \"array_system\": {\n",
    "       \"free_cable_length\": 0.5\n",
    "    },\n",
    "    \"array_system_design\": {\n",
    "       \"cables\": \"XLPE_500mm_132kV_dynamic\",\n",
    "       \"floating_cable_depth\": 300   # 1% increase in total capex as depth goes 100m to 800m\n",
    "    },\n",
    "    \"project_parameters\": {\n",
    "        \"turbine_capex\": 1500 # updated 6/2023\n",
    "    },\n",
    "    \"design_phases\": {\n",
    "       \"ArraySystemDesign\",\n",
    "       \"ElectricalDesign\",\n",
    "       \"MooringSystemDesign\", #\"SemiTautMooringSystemDesign\",\n",
    "#       \"OffshoreSubstationDesign\", # included in ElectricalDesign module\n",
    "       \"SemiSubmersibleDesign\"\n",
    "    },\n",
    "    \"export_cable_install_vessel\": \"Humboldt_cable_lay_vessel\",\n",
    "    \"export_system_design\": {\n",
    "        \"cables\": \"HVDC_2500mm_525kV\",\n",
    "        \"percent_added_length\": 0.05 # 5% = 0.05 NOT 5.0\n",
    "    },\n",
    "    \"install_phases\": {\n",
    "        \"MooringSystemInstallation\": 0, #\"5/1/2002\",\n",
    "        \"MooredSubInstallation\": (\"MooringSystemInstallation\",0.25),\n",
    "        \"ArrayCableInstallation\": (\"MooredSubInstallation\",0.25),\n",
    "        \"FloatingSubstationInstallation\": (\"ArrayCableInstallation\",0.9),\n",
    "        \"ExportCableInstallation\": (\"FloatingSubstationInstallation\",0.75)\n",
    "    },\n",
    "    \"landfall\":  {\n",
    "        \"interconnection_distance\": 0,\n",
    "#        \"interconnection_voltage\": 500,\n",
    "        \"trench_length\": 2\n",
    "    },\n",
    "    \"mooring_install_vessel\": \"example_support_vessel\",\n",
    "    \"oss_install_vessel\": \"example_towing_vessel\",\n",
    "    \"plant\": {\n",
    "        \"layout\": \"grid\",    # Ring ~5% lower array cost at 480MW, but neglects row spacing\n",
    "#        \"num_turbines\": 67,\n",
    "        \"row_spacing\": 10,    # Tighter spacing reduces total cost (-0.5% for 3x10D vs 7x7D)\n",
    "        \"substation_distance\": 1, # 1.554km = 7D\n",
    "        \"turbine_spacing\": 4\n",
    "    },\n",
    "    \"port\": {\n",
    "    \"monthly_rate\": 2000000.0,\n",
    "    \"sub_assembly_lines\": 3,     # Outputs remain the same from 1 to 5 assembly lines\n",
    "    \"turbine_assembly_cranes\": 3, # This parameter does not change cost or installation time\n",
    "    \"num_cranes\": 3\n",
    "    },\n",
    "    \"site\": {\n",
    "#        \"depth\": 1000,\n",
    "#        \"distance\": 45,\n",
    "#        \"distance_to_landfall\": 45\n",
    "    },\n",
    "    \"substation_design\": {\n",
    "        \"floating_oss\": True\n",
    "    },\n",
    "    \"substructure\": {\n",
    "        \"takt_time\": 168\n",
    "    },\n",
    "    \"support_vessel\": \"example_support_vessel\",\n",
    "    \"towing_vessel\": \"example_towing_vessel\",\n",
    "    \"towing_vessel_groups\": {\n",
    "#        \"station_keeping_vessels\": 2, # does not affect install time, does affect install and BOS costs\n",
    "        \"ahts_vessels\": 2,\n",
    "        \"towing_vessels\": 3, # does not affect install time, does affect install and BOS costs\n",
    "        \"station_keeping_vessels\": 3\n",
    "    },\n",
    "    \"trench_vessel\": \"Humboldt_cable_lay_vessel\",\n",
    "    \"turbine\": \"15MW_reference_mass\"\n",
    "}"
   ]
  },
  {
   "cell_type": "code",
   "execution_count": 3,
   "id": "appropriate-stuff",
   "metadata": {},
   "outputs": [],
   "source": [
    "# Low deployment 1b & 2c (7.2a & b)\n",
    "parameters = {\n",
    "    \"site.distance_to_landfall\": [58.4,53.6,54.1,43.6], # Coos Bay, Brookings, Del Norte, Humboldt \n",
    "    \"site.distance\": [66,150,131,45],\n",
    "    \"site.depth\": [620,740,810,755],\n",
    "#    \"landfall.interconnection_distance\": [14.6,2.4,17.2,5.3],\n",
    "    \"plant.num_turbines\": [87,120,140,133],\n",
    "    \"export_system_design.cables\": [\"XLPE_800mm_400kV\",\"XLPE_2500mm_420kV\",\"XLPE_1000mm_400kV\",\n",
    "                                    \"XLPE_2500mm_420kV\"],\n",
    "    \"offshore_substation_substructure.mooring_cost\": [4540083,5322709,5852500,5426642]\n",
    "}"
   ]
  },
  {
   "cell_type": "code",
   "execution_count": 7,
   "id": "destroyed-defensive",
   "metadata": {},
   "outputs": [],
   "source": [
    "# Mid 4a (12.4a)\n",
    "parameters = {\n",
    "    \"site.distance_to_landfall\": [90,53.6,54.1,43.6], # Coos Bay, Brookings, Del Norte, Humboldt \n",
    "    \"site.distance\": [66,150,131,45],\n",
    "    \"site.depth\": [620,740,810,755],\n",
    "#    \"landfall.interconnection_distance\": [33.5,2.4,17.2,5.3],\n",
    "    \"plant.num_turbines\": [87,120,447,173],\n",
    "    \"export_system_design.cables\": [\"XLPE_800mm_400kV\",\"XLPE_2500mm_420kV\",\"XLPE_2500mm_420kV\",\n",
    "                                    \"XLPE_2500mm_420kV\"],\n",
    "    \"offshore_substation_substructure.mooring_cost\": [4540083,5322709,5852500,5426642]\n",
    "}"
   ]
  },
  {
   "cell_type": "code",
   "execution_count": 10,
   "id": "underlying-cruise",
   "metadata": {},
   "outputs": [],
   "source": [
    "# Mid 4c (12.4b)\n",
    "parameters = {\n",
    "    \"site.distance_to_landfall\": [58.4,53.6,71.3,54.1,43.6], # Coos Bay, Brookings-Rogue,... \n",
    "    #Brookings-Del Norte, Del Norte, Humboldt \n",
    "    \"site.distance\": [66,150,150,131,45],\n",
    "    \"site.depth\": [620,740,740,810,755],\n",
    "#    \"landfall.interconnection_distance\": [14.6,2.4,23.2,17.2,5.3],\n",
    "    \"plant.num_turbines\": [87,60,60,447,173],\n",
    "    \"export_system_design.cables\": [\"XLPE_800mm_400kV\",\"XLPE_2500mm_420kV\",\"XLPE_2500mm_420kV\",\n",
    "                                    \"XLPE_2500mm_420kV\",\"XLPE_2500mm_420kV\"],\n",
    "    \"offshore_substation_substructure.mooring_cost\": [4540083,5322709,5322709,5852500,5426642]\n",
    "}"
   ]
  },
  {
   "cell_type": "code",
   "execution_count": 13,
   "id": "egyptian-clearance",
   "metadata": {},
   "outputs": [],
   "source": [
    "# Mid 5 (12.4c)\n",
    "parameters = {\n",
    "    \"site.distance_to_landfall\": [58.4,53.6,54.1,43.6,138.1,769.3], # Coos Bay, Brookings, ...\n",
    "    #Del Norte, Humboldt, Del Norte HVDC, Humboldt HVDC\n",
    "    \"site.distance\": [66,150,131,45,131,45],\n",
    "    \"site.depth\": [620,740,810,755,810,755],\n",
    "#    \"landfall.interconnection_distance\": [14.6,2.4,17.2,5.3],\n",
    "    \"plant.num_turbines\": [87,120,447,173,266,133],\n",
    "    \"export_system_design.cables\": [\"XLPE_800mm_400kV\",\"XLPE_2500mm_420kV\",\"XLPE_2500mm_420kV\",\n",
    "                                    \"XLPE_2500mm_420kV\",\"HVDC_2500mm_525kV\",\"HVDC_2500mm_525kV\"],\n",
    "    \"offshore_substation_substructure.mooring_cost\": [4540083,5322709,5852500,5426642,5852500,5426642]\n",
    "}"
   ]
  },
  {
   "cell_type": "code",
   "execution_count": 16,
   "id": "caroline-rebel",
   "metadata": {},
   "outputs": [],
   "source": [
    "# Mid 6a (12.4d)\n",
    "parameters = {\n",
    "    \"site.distance_to_landfall\": [58.4,53.6,54.1,43.6,146,138.1,452.2,670], # Coos Bay, Brookings, ...\n",
    "    #Del Norte, Humboldt, BB Brookings, BB Del Norte, BB Jenner, BB SF Bay \n",
    "    \"site.distance\": [66,150,131,45,150,131,45,45],\n",
    "    \"site.depth\": [620,740,810,755,740,810,755,755],\n",
    "#    \"landfall.interconnection_distance\": [9.1,1.5,10.7,3.3],\n",
    "    \"plant.num_turbines\": [87,120,447,173,133,266,133,133],\n",
    "    \"export_system_design.cables\": [\"XLPE_800mm_400kV\",\"XLPE_2500mm_420kV\",\"XLPE_2500mm_420kV\",\n",
    "                                    \"XLPE_2500mm_420kV\",\"HVDC_2500mm_525kV\",\"HVDC_2500mm_525kV\",\n",
    "                                    \"HVDC_2500mm_525kV\",\"HVDC_2500mm_525kV\"],\n",
    "    \"offshore_substation_substructure.mooring_cost\": [4540083,5322709,5852500,5426642,5322709,5852500,5426642,5426642]\n",
    "}"
   ]
  },
  {
   "cell_type": "code",
   "execution_count": 19,
   "id": "younger-central",
   "metadata": {},
   "outputs": [],
   "source": [
    "# Mid 7b (12.4e)\n",
    "parameters = {\n",
    "    \"site.distance_to_landfall\": [58.4,53.6,54.1,43.6,146,138.1,769.3], # Coos Bay, Brookings,... \n",
    "    #Del Norte, Humboldt, BB Brookings, BB Del Norte, BB Moss Landing\n",
    "    \"site.distance\": [66,150,131,45,150,131,45],\n",
    "    \"site.depth\": [620,740,810,755,740,810,755],\n",
    "#    \"landfall.interconnection_distance\": [9.1,1.5,10.7,3.3],\n",
    "    \"plant.num_turbines\": [87,120,447,173,120,266,133],\n",
    "    \"export_system_design.cables\": [\"XLPE_800mm_400kV\",\"XLPE_2500mm_420kV\",\"HVDC_2500mm_525kV\",\n",
    "                                    \"HVDC_2500mm_525kV\",\"HVDC_2500mm_525kV\",\"HVDC_2500mm_525kV\",\n",
    "                                    \"HVDC_2500mm_525kV\"],\n",
    "    \"offshore_substation_substructure.mooring_cost\": [4540083,5322709,5852500,5426642,5322709,5852500,5426642]\n",
    "}"
   ]
  },
  {
   "cell_type": "code",
   "execution_count": 22,
   "id": "front-rouge",
   "metadata": {},
   "outputs": [],
   "source": [
    "# Mid 8b (12.4f)\n",
    "parameters = {\n",
    "    \"site.distance_to_landfall\": [58.4,53.6,54.1,43.6,307.4,146,138.1,246.2,526.3], # Coos Bay, Brookings,...\n",
    "    #Del Norte, Humboldt, Cape Mendo, BB Brookings, BB Del Norte, BB Humboldt, BB SF Bay \n",
    "    \"site.distance\": [66,150,131,45,110,150,131,45,110],\n",
    "    \"site.depth\": [620,740,810,755,1200,740,810,755,1200],\n",
    "#    \"landfall.interconnection_distance\": [9.1,1.5,10.7,3.3,36.8],\n",
    "    \"plant.num_turbines\": [87,120,307,173,140,120,266,133,133],\n",
    "    \"export_system_design.cables\": [\"XLPE_800mm_400kV\",\"XLPE_2500mm_420kV\",\"HVDC_2500mm_525kV\",\n",
    "                                    \"HVDC_2500mm_525kV\",\"HVDC_2500mm_525kV\",\"HVDC_2500mm_525kV\",\n",
    "                                    \"HVDC_2500mm_525kV\",\"HVDC_2500mm_525kV\",\"HVDC_2500mm_525kV\"],\n",
    "    \"offshore_substation_substructure.mooring_cost\": [4540083,5322709,5852500,5426642,9736802,5322709,5852500,5426642,9736802]\n",
    "}"
   ]
  },
  {
   "cell_type": "code",
   "execution_count": 28,
   "id": "pending-uganda",
   "metadata": {},
   "outputs": [],
   "source": [
    "# High 9b & 10 wind plants only\n",
    "parameters = {\n",
    "    \"site.distance_to_landfall\": [58.4,53.6,54.1,43.6,526.3], # Coos Bay, Brookings, Del Norte, ...\n",
    "    #Humboldt, Cape Mendo \n",
    "    \"site.distance\": [66,150,131,45,110],\n",
    "    \"site.depth\": [620,740,810,755,1200],\n",
    "#    \"landfall.interconnection_distance\": [9.1,1.5,10.7,3.3,0],\n",
    "    \"plant.num_turbines\": [260,393,467,180,420],\n",
    "#    \"export_system_design.cables\": [\"HVDC_2500mm_525kV\",\"HVDC_2500mm_525kV\",\"HVDC_2500mm_525kV\",\n",
    "#                                    \"HVDC_2500mm_525kV\",\"HVDC_2500mm_525kV\"],\n",
    "    \"offshore_substation_substructure.mooring_cost\": [4540083,5322709,5852500,5426642,9736802]\n",
    "}"
   ]
  },
  {
   "cell_type": "code",
   "execution_count": 31,
   "id": "important-columbia",
   "metadata": {},
   "outputs": [],
   "source": [
    "# High 9b & 10 backbone segments\n",
    "parameters = {\n",
    "    \"site.distance_to_landfall\": [346,283.2,146,138.1,246.2,624.4,146], # Coos Bay-Portland, ...\n",
    "    #Coos Bay-Brookings, Brookings-Del Norte, Del Norte-Humboldt, Humboldt-Cape Mendo, ...\n",
    "    #Cape Mendo-Moss Landing, Brookings-Del Norte 2 \n",
    "    \"site.distance\": [66,66,150,131,45,110,150],\n",
    "    \"site.depth\": [620,620,740,810,755,1200,740],\n",
    "#    \"landfall.interconnection_distance\": [9.1,1.5,10.7,3.3,0],\n",
    "    \"plant.num_turbines\": [260,266,400,400,266,133,266],\n",
    "#    \"export_system_design.cables\": [\"HVDC_2500mm_525kV\",\"HVDC_2500mm_525kV\",\"HVDC_2500mm_525kV\",\n",
    "#                                    \"HVDC_2500mm_525kV\",\"HVDC_2500mm_525kV\",\"HVDC_2500mm_525kV\"],\n",
    "    \"offshore_substation_substructure.mooring_cost\": [4540083,4540083,5322709,5852500,5426642,9736802,5322709]\n",
    "}"
   ]
  },
  {
   "cell_type": "code",
   "execution_count": 4,
   "id": "supposed-trance",
   "metadata": {},
   "outputs": [],
   "source": [
    "results = {\n",
    "    \"t_install\": lambda run: run.installation_time,\n",
    "#    \"proj_days\": lambda run: run.project_days,\n",
    "#    \"n_exp_cables\": lambda run: run.detailed_outputs.export_system.cable.number,\n",
    "    \"system_capex\": lambda run: run.system_capex,\n",
    "    \"install_capex\": lambda run: run.installation_capex,\n",
    "#    \"soft_capex\": lambda run: run.soft_capex,\n",
    "    \"bos_capex\": lambda run: run.bos_capex,\n",
    "#    \"project_capex\": lambda run: run.project_capex,\n",
    "#    \"turbine_capex\": lambda run: run.turbine_capex,\n",
    "    \"total_capex\": lambda run: run.total_capex,\n",
    "    \"capex_bkdn\": lambda run: run.capex_breakdown,\n",
    "    \"sys_capex/kW\": lambda run: run.system_capex_per_kw,\n",
    "    \"install_capex/kW\": lambda run: run.installation_capex_per_kw,\n",
    "#    \"soft_capex/kW\": lambda run: run.soft_capex_per_kw,\n",
    "    \"bos_capex/kW\": lambda run: run.bos_capex_per_kw,\n",
    "#    \"proj_capex/kW\": lambda run: run.project_capex_per_kw,\n",
    "    \"tot_capex/kW\": lambda run: run.total_capex_per_kw,\n",
    "    \"capex_bkdn/kW\": lambda run: run.capex_breakdown_per_kw,\n",
    "    \"details\": lambda run: run.detailed_outputs,\n",
    "#    \"design\": lambda run: run.design_results,\n",
    "#    \"phases\": lambda run: run.phase_times    #see manager.py for output list\n",
    "}"
   ]
  },
  {
   "cell_type": "code",
   "execution_count": 32,
   "id": "thick-highland",
   "metadata": {},
   "outputs": [
    {
     "data": {
      "text/html": [
       "<div>\n",
       "<style scoped>\n",
       "    .dataframe tbody tr th:only-of-type {\n",
       "        vertical-align: middle;\n",
       "    }\n",
       "\n",
       "    .dataframe tbody tr th {\n",
       "        vertical-align: top;\n",
       "    }\n",
       "\n",
       "    .dataframe thead th {\n",
       "        text-align: right;\n",
       "    }\n",
       "</style>\n",
       "<table border=\"1\" class=\"dataframe\">\n",
       "  <thead>\n",
       "    <tr style=\"text-align: right;\">\n",
       "      <th></th>\n",
       "      <th>site.distance_to_landfall</th>\n",
       "      <th>site.distance</th>\n",
       "      <th>site.depth</th>\n",
       "      <th>plant.num_turbines</th>\n",
       "      <th>offshore_substation_substructure.mooring_cost</th>\n",
       "      <th>t_install</th>\n",
       "      <th>system_capex</th>\n",
       "      <th>install_capex</th>\n",
       "      <th>bos_capex</th>\n",
       "      <th>total_capex</th>\n",
       "      <th>capex_bkdn</th>\n",
       "      <th>sys_capex/kW</th>\n",
       "      <th>install_capex/kW</th>\n",
       "      <th>bos_capex/kW</th>\n",
       "      <th>tot_capex/kW</th>\n",
       "      <th>capex_bkdn/kW</th>\n",
       "      <th>details</th>\n",
       "    </tr>\n",
       "  </thead>\n",
       "  <tbody>\n",
       "    <tr>\n",
       "      <th>0</th>\n",
       "      <td>346.0</td>\n",
       "      <td>66</td>\n",
       "      <td>620</td>\n",
       "      <td>260</td>\n",
       "      <td>4540083</td>\n",
       "      <td>120224.562370</td>\n",
       "      <td>8.889151e+09</td>\n",
       "      <td>1.213750e+09</td>\n",
       "      <td>1.010290e+10</td>\n",
       "      <td>1.861965e+10</td>\n",
       "      <td>{'Mooring System': 1226389428.2026572, 'Substr...</td>\n",
       "      <td>2279.269452</td>\n",
       "      <td>311.218058</td>\n",
       "      <td>2590.487511</td>\n",
       "      <td>4774.269562</td>\n",
       "      <td>{'Mooring System': 314.4588277442711, 'Substru...</td>\n",
       "      <td>{'num_lines': 4, 'line_diam': 0.15, 'line_mass...</td>\n",
       "    </tr>\n",
       "    <tr>\n",
       "      <th>1</th>\n",
       "      <td>283.2</td>\n",
       "      <td>66</td>\n",
       "      <td>620</td>\n",
       "      <td>266</td>\n",
       "      <td>4540083</td>\n",
       "      <td>117702.222327</td>\n",
       "      <td>8.651839e+09</td>\n",
       "      <td>1.178614e+09</td>\n",
       "      <td>9.830453e+09</td>\n",
       "      <td>1.854025e+10</td>\n",
       "      <td>{'Mooring System': 1254690722.6996417, 'Substr...</td>\n",
       "      <td>2168.380748</td>\n",
       "      <td>295.391930</td>\n",
       "      <td>2463.772679</td>\n",
       "      <td>4646.679947</td>\n",
       "      <td>{'Mooring System': 314.4588277442711, 'Substru...</td>\n",
       "      <td>{'num_lines': 4, 'line_diam': 0.15, 'line_mass...</td>\n",
       "    </tr>\n",
       "    <tr>\n",
       "      <th>2</th>\n",
       "      <td>146.0</td>\n",
       "      <td>150</td>\n",
       "      <td>740</td>\n",
       "      <td>400</td>\n",
       "      <td>5322709</td>\n",
       "      <td>200857.551147</td>\n",
       "      <td>1.222294e+10</td>\n",
       "      <td>1.987373e+09</td>\n",
       "      <td>1.421032e+10</td>\n",
       "      <td>2.723157e+10</td>\n",
       "      <td>{'Mooring System': 2207617222.4656267, 'Substr...</td>\n",
       "      <td>2037.157154</td>\n",
       "      <td>331.228860</td>\n",
       "      <td>2368.386015</td>\n",
       "      <td>4538.594348</td>\n",
       "      <td>{'Mooring System': 367.9362037442711, 'Substru...</td>\n",
       "      <td>{'num_lines': 4, 'line_diam': 0.15, 'line_mass...</td>\n",
       "    </tr>\n",
       "    <tr>\n",
       "      <th>3</th>\n",
       "      <td>138.1</td>\n",
       "      <td>131</td>\n",
       "      <td>810</td>\n",
       "      <td>400</td>\n",
       "      <td>5852500</td>\n",
       "      <td>195837.006454</td>\n",
       "      <td>1.234666e+10</td>\n",
       "      <td>1.928832e+09</td>\n",
       "      <td>1.427549e+10</td>\n",
       "      <td>2.729674e+10</td>\n",
       "      <td>{'Mooring System': 2399418566.4656267, 'Substr...</td>\n",
       "      <td>2057.775955</td>\n",
       "      <td>321.472054</td>\n",
       "      <td>2379.248009</td>\n",
       "      <td>4549.456342</td>\n",
       "      <td>{'Mooring System': 399.9030944109378, 'Substru...</td>\n",
       "      <td>{'num_lines': 4, 'line_diam': 0.15, 'line_mass...</td>\n",
       "    </tr>\n",
       "    <tr>\n",
       "      <th>4</th>\n",
       "      <td>246.2</td>\n",
       "      <td>45</td>\n",
       "      <td>755</td>\n",
       "      <td>266</td>\n",
       "      <td>5426642</td>\n",
       "      <td>113200.480890</td>\n",
       "      <td>8.678230e+09</td>\n",
       "      <td>1.121119e+09</td>\n",
       "      <td>9.799349e+09</td>\n",
       "      <td>1.850915e+10</td>\n",
       "      <td>{'Mooring System': 1495206135.1796415, 'Substr...</td>\n",
       "      <td>2174.994870</td>\n",
       "      <td>280.982205</td>\n",
       "      <td>2455.977075</td>\n",
       "      <td>4638.884343</td>\n",
       "      <td>{'Mooring System': 374.73837974427107, 'Substr...</td>\n",
       "      <td>{'num_lines': 4, 'line_diam': 0.15, 'line_mass...</td>\n",
       "    </tr>\n",
       "    <tr>\n",
       "      <th>5</th>\n",
       "      <td>624.4</td>\n",
       "      <td>110</td>\n",
       "      <td>1200</td>\n",
       "      <td>133</td>\n",
       "      <td>9736802</td>\n",
       "      <td>80677.373991</td>\n",
       "      <td>5.831884e+09</td>\n",
       "      <td>8.130623e+08</td>\n",
       "      <td>6.644946e+09</td>\n",
       "      <td>1.107547e+10</td>\n",
       "      <td>{'Mooring System': 1173886581.189821, 'Substru...</td>\n",
       "      <td>2923.250139</td>\n",
       "      <td>407.550016</td>\n",
       "      <td>3330.800156</td>\n",
       "      <td>5551.614692</td>\n",
       "      <td>{'Mooring System': 588.4143264109379, 'Substru...</td>\n",
       "      <td>{'num_lines': 4, 'line_diam': 0.15, 'line_mass...</td>\n",
       "    </tr>\n",
       "    <tr>\n",
       "      <th>6</th>\n",
       "      <td>146.0</td>\n",
       "      <td>150</td>\n",
       "      <td>740</td>\n",
       "      <td>266</td>\n",
       "      <td>5322709</td>\n",
       "      <td>125525.875211</td>\n",
       "      <td>8.070269e+09</td>\n",
       "      <td>1.231503e+09</td>\n",
       "      <td>9.301772e+09</td>\n",
       "      <td>1.801157e+10</td>\n",
       "      <td>{'Mooring System': 1468065452.939642, 'Substru...</td>\n",
       "      <td>2022.623848</td>\n",
       "      <td>308.647317</td>\n",
       "      <td>2331.271165</td>\n",
       "      <td>4514.178434</td>\n",
       "      <td>{'Mooring System': 367.93620374427115, 'Substr...</td>\n",
       "      <td>{'num_lines': 4, 'line_diam': 0.15, 'line_mass...</td>\n",
       "    </tr>\n",
       "  </tbody>\n",
       "</table>\n",
       "</div>"
      ],
      "text/plain": [
       "   site.distance_to_landfall  site.distance  site.depth  plant.num_turbines  \\\n",
       "0                      346.0             66         620                 260   \n",
       "1                      283.2             66         620                 266   \n",
       "2                      146.0            150         740                 400   \n",
       "3                      138.1            131         810                 400   \n",
       "4                      246.2             45         755                 266   \n",
       "5                      624.4            110        1200                 133   \n",
       "6                      146.0            150         740                 266   \n",
       "\n",
       "   offshore_substation_substructure.mooring_cost      t_install  system_capex  \\\n",
       "0                                        4540083  120224.562370  8.889151e+09   \n",
       "1                                        4540083  117702.222327  8.651839e+09   \n",
       "2                                        5322709  200857.551147  1.222294e+10   \n",
       "3                                        5852500  195837.006454  1.234666e+10   \n",
       "4                                        5426642  113200.480890  8.678230e+09   \n",
       "5                                        9736802   80677.373991  5.831884e+09   \n",
       "6                                        5322709  125525.875211  8.070269e+09   \n",
       "\n",
       "   install_capex     bos_capex   total_capex  \\\n",
       "0   1.213750e+09  1.010290e+10  1.861965e+10   \n",
       "1   1.178614e+09  9.830453e+09  1.854025e+10   \n",
       "2   1.987373e+09  1.421032e+10  2.723157e+10   \n",
       "3   1.928832e+09  1.427549e+10  2.729674e+10   \n",
       "4   1.121119e+09  9.799349e+09  1.850915e+10   \n",
       "5   8.130623e+08  6.644946e+09  1.107547e+10   \n",
       "6   1.231503e+09  9.301772e+09  1.801157e+10   \n",
       "\n",
       "                                          capex_bkdn  sys_capex/kW  \\\n",
       "0  {'Mooring System': 1226389428.2026572, 'Substr...   2279.269452   \n",
       "1  {'Mooring System': 1254690722.6996417, 'Substr...   2168.380748   \n",
       "2  {'Mooring System': 2207617222.4656267, 'Substr...   2037.157154   \n",
       "3  {'Mooring System': 2399418566.4656267, 'Substr...   2057.775955   \n",
       "4  {'Mooring System': 1495206135.1796415, 'Substr...   2174.994870   \n",
       "5  {'Mooring System': 1173886581.189821, 'Substru...   2923.250139   \n",
       "6  {'Mooring System': 1468065452.939642, 'Substru...   2022.623848   \n",
       "\n",
       "   install_capex/kW  bos_capex/kW  tot_capex/kW  \\\n",
       "0        311.218058   2590.487511   4774.269562   \n",
       "1        295.391930   2463.772679   4646.679947   \n",
       "2        331.228860   2368.386015   4538.594348   \n",
       "3        321.472054   2379.248009   4549.456342   \n",
       "4        280.982205   2455.977075   4638.884343   \n",
       "5        407.550016   3330.800156   5551.614692   \n",
       "6        308.647317   2331.271165   4514.178434   \n",
       "\n",
       "                                       capex_bkdn/kW  \\\n",
       "0  {'Mooring System': 314.4588277442711, 'Substru...   \n",
       "1  {'Mooring System': 314.4588277442711, 'Substru...   \n",
       "2  {'Mooring System': 367.9362037442711, 'Substru...   \n",
       "3  {'Mooring System': 399.9030944109378, 'Substru...   \n",
       "4  {'Mooring System': 374.73837974427107, 'Substr...   \n",
       "5  {'Mooring System': 588.4143264109379, 'Substru...   \n",
       "6  {'Mooring System': 367.93620374427115, 'Substr...   \n",
       "\n",
       "                                             details  \n",
       "0  {'num_lines': 4, 'line_diam': 0.15, 'line_mass...  \n",
       "1  {'num_lines': 4, 'line_diam': 0.15, 'line_mass...  \n",
       "2  {'num_lines': 4, 'line_diam': 0.15, 'line_mass...  \n",
       "3  {'num_lines': 4, 'line_diam': 0.15, 'line_mass...  \n",
       "4  {'num_lines': 4, 'line_diam': 0.15, 'line_mass...  \n",
       "5  {'num_lines': 4, 'line_diam': 0.15, 'line_mass...  \n",
       "6  {'num_lines': 4, 'line_diam': 0.15, 'line_mass...  "
      ]
     },
     "execution_count": 32,
     "metadata": {},
     "output_type": "execute_result"
    }
   ],
   "source": [
    "parametric = ParametricManager(base, parameters, results, weather=weather, product=False)\n",
    "parametric.run()\n",
    "\n",
    "\n",
    "# By default, ParametricManager doesn't run the product of all parameters and just\n",
    "# runs the first set of inputs, then the second set of inputs, etc.\n",
    "# To configure ParametricManager to run the product of all inputs, pass 'product=True'\n",
    "\n",
    "parametric.results"
   ]
  },
  {
   "cell_type": "code",
   "execution_count": 33,
   "id": "advanced-oasis",
   "metadata": {},
   "outputs": [],
   "source": [
    "parametric.results.to_csv(\"Schatz_high_backbone_elec_results_28Jun.csv\")"
   ]
  },
  {
   "cell_type": "code",
   "execution_count": 33,
   "id": "cathedral-consumption",
   "metadata": {},
   "outputs": [],
   "source": [
    "import matplotlib.pyplot as plt\n",
    "import seaborn as sns"
   ]
  },
  {
   "cell_type": "code",
   "execution_count": 36,
   "id": "north-lottery",
   "metadata": {},
   "outputs": [
    {
     "data": {
      "text/plain": [
       "<matplotlib.collections.PathCollection at 0x121752290c8>"
      ]
     },
     "execution_count": 36,
     "metadata": {},
     "output_type": "execute_result"
    },
    {
     "data": {
      "image/png": "[encoded data removed]",
      "text/plain": [
       "<Figure size 432x288 with 1 Axes>"
      ]
     },
     "metadata": {
      "needs_background": "light"
     },
     "output_type": "display_data"
    }
   ],
   "source": [
    "plt.scatter(parametric.results[\"site.depth\"], parametric.results[\"total_capex\"])"
   ]
  },
  {
   "cell_type": "code",
   "execution_count": 102,
   "id": "stainless-balance",
   "metadata": {},
   "outputs": [
    {
     "data": {
      "text/plain": [
       "<AxesSubplot:xlabel='plant.num_turbines', ylabel='t_install'>"
      ]
     },
     "execution_count": 102,
     "metadata": {},
     "output_type": "execute_result"
    },
    {
     "data": {
      "image/png": "[encoded data removed]",
      "text/plain": [
       "<Figure size 432x288 with 1 Axes>"
      ]
     },
     "metadata": {
      "needs_background": "light"
     },
     "output_type": "display_data"
    }
   ],
   "source": [
    "sns.boxplot(data=parametric.results, x='plant.num_turbines', y='t_install')"
   ]
  },
  {
   "cell_type": "code",
   "execution_count": 103,
   "id": "portable-wyoming",
   "metadata": {},
   "outputs": [
    {
     "data": {
      "text/plain": [
       "<AxesSubplot:xlabel='plant.num_turbines', ylabel='tot_capex/kW'>"
      ]
     },
     "execution_count": 103,
     "metadata": {},
     "output_type": "execute_result"
    },
    {
     "data": {
      "image/png": "[encoded data removed]",
      "text/plain": [
       "<Figure size 432x288 with 1 Axes>"
      ]
     },
     "metadata": {
      "needs_background": "light"
     },
     "output_type": "display_data"
    }
   ],
   "source": [
    "sns.boxplot(data=parametric.results, x='plant.num_turbines', y='tot_capex/kW')"
   ]
  },
  {
   "cell_type": "code",
   "execution_count": 52,
   "id": "desirable-retro",
   "metadata": {},
   "outputs": [],
   "source": [
    "project = ProjectManager(base,weather=weather)\n",
    "project.run()"
   ]
  },
  {
   "cell_type": "code",
   "execution_count": 53,
   "id": "statutory-intelligence",
   "metadata": {},
   "outputs": [
    {
     "name": "stdout",
     "output_type": "stream",
     "text": [
      "Installation CapEx:  410 M\n",
      "System CapEx:       988 M\n",
      "Turbine CapEx:       640 M\n",
      "Soft CapEx:          317 M\n",
      "Total CapEx:        2507 M\n",
      "\n",
      "Installation Time: 27999 h\n"
     ]
    }
   ],
   "source": [
    "print(f\"Installation CapEx:  {project.installation_capex/1e6:.0f} M\")\n",
    "print(f\"System CapEx:       {project.system_capex/1e6:.0f} M\")\n",
    "print(f\"Turbine CapEx:       {project.turbine_capex/1e6:.0f} M\")\n",
    "print(f\"Soft CapEx:          {project.soft_capex/1e6:.0f} M\")\n",
    "print(f\"Total CapEx:        {project.total_capex/1e6:.0f} M\")\n",
    "\n",
    "print(f\"\\nInstallation Time: {project.installation_time:.0f} h\")"
   ]
  },
  {
   "cell_type": "code",
   "execution_count": 40,
   "id": "major-genesis",
   "metadata": {},
   "outputs": [
    {
     "data": {
      "text/plain": [
       "0    {'Array System': 58823566.35089509, 'Export Sy...\n",
       "1    {'Array System': 57613073.147454105, 'Export S...\n",
       "2    {'Array System': 56468585.244877525, 'Export S...\n",
       "3    {'Array System': 55593416.77760929, 'Export Sy...\n",
       "4    {'Array System': 54868249.3930593, 'Export Sys...\n",
       "Name: capex_bkdn, dtype: object"
      ]
     },
     "execution_count": 40,
     "metadata": {},
     "output_type": "execute_result"
    }
   ],
   "source": [
    "parametric.results[\"capex_bkdn\"]"
   ]
  },
  {
   "cell_type": "code",
   "execution_count": null,
   "id": "exotic-telling",
   "metadata": {},
   "outputs": [],
   "source": []
  }
 ],
 "metadata": {
  "kernelspec": {
   "display_name": "Python 3",
   "language": "python",
   "name": "python3"
  },
  "language_info": {
   "codemirror_mode": {
    "name": "ipython",
    "version": 3
   },
   "file_extension": ".py",
   "mimetype": "text/x-python",
   "name": "python",
   "nbconvert_exporter": "python",
   "pygments_lexer": "ipython3",
   "version": "3.7.9"
  }
 },
 "nbformat": 4,
 "nbformat_minor": 5
}
